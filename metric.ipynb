{
 "cells": [
  {
   "cell_type": "code",
   "execution_count": 2,
   "id": "27cdfe65",
   "metadata": {},
   "outputs": [],
   "source": [
    "import numpy as np"
   ]
  },
  {
   "cell_type": "code",
   "execution_count": 148,
   "id": "a45556c2",
   "metadata": {},
   "outputs": [],
   "source": [
    "def metric(y_true, y_pred):\n",
    "    i = 0\n",
    "    if y_true.shape != y_pred.shape:\n",
    "        print('Неправильные размеры массивов!')\n",
    "        return\n",
    "    TP = 0\n",
    "    TN = 0\n",
    "    FP = 0\n",
    "    FN = 0\n",
    "    inp = int(input('Введите первый класс: '))\n",
    "    print()\n",
    "    for num in y_true:\n",
    "        j = 0\n",
    "        for el in num:\n",
    "            if el == inp:\n",
    "                if el == y_pred[i,j]:\n",
    "                    TP += 1\n",
    "                else:\n",
    "                    FN += 1\n",
    "            else:\n",
    "                if el == y_pred[i,j]:\n",
    "                    TN += 1\n",
    "                else:\n",
    "                    FP += 1\n",
    "            j+=1\n",
    "        i+=1\n",
    "    print(f'Accuracy: {(TP+TN)/(TP+TN+FP+FN)}')\n",
    "    print(f'Precision: {TP/(TP+FP)}')\n",
    "    print(f'Recall: {TP/(TP+FN)}')\n",
    "    if TP == 0: \n",
    "        return\n",
    "    print(f'F-score: {2*TP/(TP+FP)*TP/(TP+FN)/(TP/(TP+FP)+TP/(TP+FN))}')"
   ]
  },
  {
   "cell_type": "code",
   "execution_count": 149,
   "id": "b2f5e818",
   "metadata": {},
   "outputs": [],
   "source": [
    "a = np.array([[1],[1]])"
   ]
  },
  {
   "cell_type": "code",
   "execution_count": 150,
   "id": "ac3dc026",
   "metadata": {},
   "outputs": [
    {
     "data": {
      "text/plain": [
       "array([[1],\n",
       "       [1]])"
      ]
     },
     "execution_count": 150,
     "metadata": {},
     "output_type": "execute_result"
    }
   ],
   "source": [
    "a"
   ]
  },
  {
   "cell_type": "code",
   "execution_count": 151,
   "id": "97d1a4f1",
   "metadata": {},
   "outputs": [],
   "source": [
    "b = np.array([[2],[1]])"
   ]
  },
  {
   "cell_type": "code",
   "execution_count": 147,
   "id": "42109410",
   "metadata": {},
   "outputs": [
    {
     "name": "stdout",
     "output_type": "stream",
     "text": [
      "Введите первый класс: 1\n",
      "\n",
      "Accuracy: 0.5\n",
      "Precision: 1.0\n",
      "Recall: 0.5\n",
      "F-score: 0.6666666666666666\n"
     ]
    }
   ],
   "source": [
    "metric(a,b)"
   ]
  },
  {
   "cell_type": "code",
   "execution_count": null,
   "id": "99dbe0a0",
   "metadata": {},
   "outputs": [],
   "source": []
  },
  {
   "cell_type": "code",
   "execution_count": null,
   "id": "d92a0cb4",
   "metadata": {},
   "outputs": [],
   "source": []
  },
  {
   "cell_type": "code",
   "execution_count": null,
   "id": "79099f6d",
   "metadata": {},
   "outputs": [],
   "source": []
  },
  {
   "cell_type": "code",
   "execution_count": null,
   "id": "f02f033c",
   "metadata": {},
   "outputs": [],
   "source": []
  },
  {
   "cell_type": "code",
   "execution_count": null,
   "id": "738fc499",
   "metadata": {},
   "outputs": [],
   "source": []
  }
 ],
 "metadata": {
  "kernelspec": {
   "display_name": "Python 3 (ipykernel)",
   "language": "python",
   "name": "python3"
  },
  "language_info": {
   "codemirror_mode": {
    "name": "ipython",
    "version": 3
   },
   "file_extension": ".py",
   "mimetype": "text/x-python",
   "name": "python",
   "nbconvert_exporter": "python",
   "pygments_lexer": "ipython3",
   "version": "3.9.2"
  }
 },
 "nbformat": 4,
 "nbformat_minor": 5
}
